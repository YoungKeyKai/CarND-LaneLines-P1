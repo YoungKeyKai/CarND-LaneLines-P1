{
 "cells": [
  {
   "cell_type": "markdown",
   "metadata": {},
   "source": [
    "# Self-Driving Car Engineer Nanodegree\n",
    "\n",
    "\n",
    "## Project: **Finding Lane Lines on the Road** \n",
    "***\n",
    "In this project, you will use the tools you learned about in the lesson to identify lane lines on the road.  You can develop your pipeline on a series of individual images, and later apply the result to a video stream (really just a series of images). Check out the video clip \"raw-lines-example.mp4\" (also contained in this repository) to see what the output should look like after using the helper functions below. \n",
    "\n",
    "Once you have a result that looks roughly like \"raw-lines-example.mp4\", you'll need to get creative and try to average and/or extrapolate the line segments you've detected to map out the full extent of the lane lines.  You can see an example of the result you're going for in the video \"P1_example.mp4\".  Ultimately, you would like to draw just one line for the left side of the lane, and one for the right.\n",
    "\n",
    "In addition to implementing code, there is a brief writeup to complete. The writeup should be completed in a separate file, which can be either a markdown file or a pdf document. There is a [write up template](https://github.com/udacity/CarND-LaneLines-P1/blob/master/writeup_template.md) that can be used to guide the writing process. Completing both the code in the Ipython notebook and the writeup template will cover all of the [rubric points](https://review.udacity.com/#!/rubrics/322/view) for this project.\n",
    "\n",
    "---\n",
    "Let's have a look at our first image called 'test_images/solidWhiteRight.jpg'.  Run the 2 cells below (hit Shift-Enter or the \"play\" button above) to display the image.\n",
    "\n",
    "**Note: If, at any point, you encounter frozen display windows or other confounding issues, you can always start again with a clean slate by going to the \"Kernel\" menu above and selecting \"Restart & Clear Output\".**\n",
    "\n",
    "---"
   ]
  },
  {
   "cell_type": "markdown",
   "metadata": {},
   "source": [
    "**The tools you have are color selection, region of interest selection, grayscaling, Gaussian smoothing, Canny Edge Detection and Hough Tranform line detection.  You  are also free to explore and try other techniques that were not presented in the lesson.  Your goal is piece together a pipeline to detect the line segments in the image, then average/extrapolate them and draw them onto the image for display (as below).  Once you have a working pipeline, try it out on the video stream below.**\n",
    "\n",
    "---\n",
    "\n",
    "<figure>\n",
    " <img src=\"examples/line-segments-example.jpg\" width=\"380\" alt=\"Combined Image\" />\n",
    " <figcaption>\n",
    " <p></p> \n",
    " <p style=\"text-align: center;\"> Your output should look something like this (above) after detecting line segments using the helper functions below </p> \n",
    " </figcaption>\n",
    "</figure>\n",
    " <p></p> \n",
    "<figure>\n",
    " <img src=\"examples/laneLines_thirdPass.jpg\" width=\"380\" alt=\"Combined Image\" />\n",
    " <figcaption>\n",
    " <p></p> \n",
    " <p style=\"text-align: center;\"> Your goal is to connect/average/extrapolate line segments to get output like this</p> \n",
    " </figcaption>\n",
    "</figure>"
   ]
  },
  {
   "cell_type": "markdown",
   "metadata": {},
   "source": [
    "**Run the cell below to import some packages.  If you get an `import error` for a package you've already installed, try changing your kernel (select the Kernel menu above --> Change Kernel).  Still have problems?  Try relaunching Jupyter Notebook from the terminal prompt.  Also, consult the forums for more troubleshooting tips.**  "
   ]
  },
  {
   "cell_type": "markdown",
   "metadata": {},
   "source": [
    "## Import Packages"
   ]
  },
  {
   "cell_type": "code",
   "execution_count": null,
   "metadata": {
    "collapsed": false
   },
   "outputs": [],
   "source": [
    "#importing some useful packages\n",
    "import matplotlib.pyplot as plt\n",
    "import matplotlib.image as mpimg\n",
    "import numpy as np\n",
    "import cv2\n",
    "from sklearn import linear_model\n",
    "%matplotlib inline"
   ]
  },
  {
   "cell_type": "markdown",
   "metadata": {},
   "source": [
    "## Ideas for Lane Detection Pipeline"
   ]
  },
  {
   "cell_type": "markdown",
   "metadata": {},
   "source": [
    "**Some OpenCV functions (beyond those introduced in the lesson) that might be useful for this project are:**\n",
    "\n",
    "`cv2.inRange()` for color selection  \n",
    "`cv2.fillPoly()` for regions selection  \n",
    "`cv2.line()` to draw lines on an image given endpoints  \n",
    "`cv2.addWeighted()` to coadd / overlay two images  \n",
    "`cv2.cvtColor()` to grayscale or change color  \n",
    "`cv2.imwrite()` to output images to file  \n",
    "`cv2.bitwise_and()` to apply a mask to an image\n",
    "\n",
    "**Check out the OpenCV documentation to learn about these and discover even more awesome functionality!**"
   ]
  },
  {
   "cell_type": "markdown",
   "metadata": {},
   "source": [
    "## Helper Functions"
   ]
  },
  {
   "cell_type": "markdown",
   "metadata": {},
   "source": [
    "Below are some helper functions to help get you started. They should look familiar from the lesson!"
   ]
  },
  {
   "cell_type": "code",
   "execution_count": null,
   "metadata": {
    "collapsed": true
   },
   "outputs": [],
   "source": [
    "import math\n",
    "\n",
    "def grayscale(img):\n",
    "    \"\"\"Applies the Grayscale transform\n",
    "    This will return an image with only one color channel\n",
    "    but NOTE: to see the returned image as grayscale\n",
    "    (assuming your grayscaled image is called 'gray')\n",
    "    you should call plt.imshow(gray, cmap='gray')\"\"\"\n",
    "    return cv2.cvtColor(img, cv2.COLOR_RGB2GRAY)\n",
    "    # Or use BGR2GRAY if you read an image with cv2.imread()\n",
    "    # return cv2.cvtColor(img, cv2.COLOR_BGR2GRAY)\n",
    "    \n",
    "def canny(img, low_threshold, high_threshold):\n",
    "    \"\"\"Applies the Canny transform\"\"\"\n",
    "    return cv2.Canny(img, low_threshold, high_threshold)\n",
    "\n",
    "def gaussian_blur(img, kernel_size):\n",
    "    \"\"\"Applies a Gaussian Noise kernel\"\"\"\n",
    "    return cv2.GaussianBlur(img, (kernel_size, kernel_size), 0)\n",
    "\n",
    "def region_of_interest(img, vertices):\n",
    "    \"\"\"\n",
    "    Applies an image mask.\n",
    "    \n",
    "    Only keeps the region of the image defined by the polygon\n",
    "    formed from `vertices`. The rest of the image is set to black.\n",
    "    `vertices` should be a numpy array of integer points.\n",
    "    \"\"\"\n",
    "    #defining a blank mask to start with\n",
    "    mask = np.zeros_like(img)   \n",
    "    \n",
    "    #defining a 3 channel or 1 channel color to fill the mask with depending on the input image\n",
    "    if len(img.shape) > 2:\n",
    "        channel_count = img.shape[2]  # i.e. 3 or 4 depending on your image\n",
    "        ignore_mask_color = (255,) * channel_count\n",
    "    else:\n",
    "        ignore_mask_color = 255\n",
    "        \n",
    "    #filling pixels inside the polygon defined by \"vertices\" with the fill color    \n",
    "    cv2.fillPoly(mask, vertices, ignore_mask_color)\n",
    "    \n",
    "    #returning the image only where mask pixels are nonzero\n",
    "    masked_image = cv2.bitwise_and(img, mask)\n",
    "    return masked_image\n",
    "\n",
    "\n",
    "def draw_lines(img, lines, color=[255, 0, 0], thickness=2):\n",
    "    \"\"\"Draws a line over a given image.\"\"\"\n",
    "    for line in lines:\n",
    "        for x1,y1,x2,y2 in line:\n",
    "            cv2.line(img, (x1, y1), (x2, y2), color, thickness)\n",
    "\n",
    "def hough_lines(img, rho, theta, threshold, min_line_len, max_line_gap):\n",
    "    \"\"\"\n",
    "    `img` should be the output of a Canny transform.\n",
    "        \n",
    "    Returns an image with hough lines drawn.\n",
    "    \"\"\"\n",
    "    lines = cv2.HoughLinesP(img, rho, theta, threshold, np.array([]), minLineLength=min_line_len, maxLineGap=max_line_gap)\n",
    "    line_img = np.zeros((img.shape[0], img.shape[1], 3), dtype=np.uint8)\n",
    "    draw_lines(line_img, lines)\n",
    "    return line_img, lines\n",
    "\n",
    "# Python 3 has support for cool math symbols.\n",
    "\n",
    "def weighted_img(img, initial_img, α=0.8, β=1., γ=0.):\n",
    "    \"\"\"\n",
    "    `img` is the output of the hough_lines(), An image with lines drawn on it.\n",
    "    Should be a blank image (all black) with lines drawn on it.\n",
    "    \n",
    "    `initial_img` should be the image before any processing.\n",
    "    \n",
    "    The result image is computed as follows:\n",
    "    \n",
    "    initial_img * α + img * β + γ\n",
    "    NOTE: initial_img and img must be the same shape!\n",
    "    \"\"\"\n",
    "    return cv2.addWeighted(initial_img, α, img, β, γ)"
   ]
  },
  {
   "attachments": {},
   "cell_type": "markdown",
   "metadata": {},
   "source": [
    "### Custom Helpers"
   ]
  },
  {
   "cell_type": "code",
   "execution_count": null,
   "metadata": {},
   "outputs": [],
   "source": [
    "def convert_to_hsv(img):\n",
    "    \"\"\"Converts given RGB img to HSV format\"\"\"\n",
    "    return cv2.cvtColor(img, cv2.COLOR_BGR2HSV)\n",
    "\n",
    "def convert_to_rgb(img):\n",
    "    \"\"\"Converts given HSV img to RGB format\"\"\"\n",
    "    return cv2.cvtColor(img, cv2.COLOR_HSV2BGR)\n",
    "\n",
    "def calculate_hue_saturation_histogram(hsv_img):\n",
    "    \"\"\"Calculates the histogram for the hue and saturation channels in an HSV image\"\"\"\n",
    "    return cv2.calcHist([hsv_img], [0, 1], None, [180, 256], [0, 180, 0, 256])\n",
    "\n",
    "def show_image(img, cmap=None):\n",
    "    if cmap is not None:\n",
    "        plt.imshow(img, cmap=cmap)\n",
    "    else:\n",
    "        plt.imshow(img)\n",
    "    plt.show()\n",
    "\n",
    "def group_lines_in_left_right(img, lines, middle_x_value):\n",
    "    \"\"\"\n",
    "    Separate lines into 2 provided numpy arrays, left and right.\n",
    "    This ensures we can pass the correct set of lines to RANSAC so it can extrapolate using the correct data.\n",
    "    \"\"\"\n",
    "    left_points = []\n",
    "    right_points = []\n",
    "    other_points = []\n",
    "    for line in lines:\n",
    "        for x1,y1,x2,y2 in line:\n",
    "            delta_x = x2 - x1\n",
    "            delta_y = y2 - y1\n",
    "\n",
    "            # Vertical line\n",
    "            if delta_x == 0:\n",
    "                other_points += [[x1, y1], [x2, y2]]\n",
    "            else:\n",
    "                slope = delta_y / delta_x\n",
    "\n",
    "                # Horizontal line\n",
    "                if slope == 0:\n",
    "                    other_points += [[x1, y1], [x2, y2]]\n",
    "\n",
    "                # Sloping lines that can be categorized by their slope\n",
    "                # Note: since the coordinate system anchors on the top left, the positive slope goes to the bottom right\n",
    "                elif slope > 0:\n",
    "                    right_points += [[x1, y1], [x2, y2]]\n",
    "                else:\n",
    "                    left_points += [[x1, y1], [x2, y2]]\n",
    "\n",
    "    left_points = np.array(left_points)\n",
    "    right_points = np.array(right_points)\n",
    "\n",
    "    # Categorize each pair of points defining horizontal/vertical lines as to the left or right of the middle\n",
    "    for index in range(0, len(other_points) - 1, 2):\n",
    "        point1 = other_points[index]\n",
    "        point2 = other_points[index + 1]\n",
    "        if point1[0] <= middle_x_value:\n",
    "            left_points = np.append(left_points, [point1, point2], axis=0)\n",
    "        else:\n",
    "            right_points = np.append(right_points, [point1, point2], axis=0)\n",
    "\n",
    "    return left_points, right_points\n",
    "\n",
    "def create_ransac():\n",
    "    return linear_model.RANSACRegressor(\n",
    "        estimator=linear_model.LinearRegression(),\n",
    "        min_samples=2,\n",
    "        max_trials=500,\n",
    "        loss='absolute_error'\n",
    "    )"
   ]
  },
  {
   "cell_type": "markdown",
   "metadata": {},
   "source": [
    "## Build a Lane Finding Pipeline\n",
    "\n"
   ]
  },
  {
   "cell_type": "markdown",
   "metadata": {},
   "source": [
    "Build the pipeline and run your solution on all test_images. Make copies into the `test_images_output` directory, and you can use the images in your writeup report.\n",
    "\n",
    "Try tuning the various parameters, especially the low and high Canny thresholds as well as the Hough lines parameters."
   ]
  },
  {
   "attachments": {},
   "cell_type": "markdown",
   "metadata": {},
   "source": [
    "### Hue Range for Colour Thresholding\n",
    "\n",
    "To determine the range of hues that needs to be thresholded, 2D histograms will be used.\n",
    "\n",
    "The images will first be converted to HSV format, then a histogram will be generated based on the hue and saturation channels."
   ]
  },
  {
   "cell_type": "code",
   "execution_count": null,
   "metadata": {},
   "outputs": [],
   "source": [
    "for file in os.listdir(\"test_images/\"):\n",
    "    image = mpimg.imread(f\"test_images/{file}\")\n",
    "    hsv = convert_to_hsv(image)\n",
    "    # plt.imshow(hsv)  # shows that the image is indeed converted as imshow renders HSV channels as RGB channels\n",
    "    histogram = calculate_hue_saturation_histogram(hsv)\n",
    "\n",
    "    figure, (axis1, axis2) = plt.subplots(1, 2)\n",
    "    axis1.imshow(histogram, interpolation = 'nearest')\n",
    "    axis1.set_xlabel(\"Saturation\")\n",
    "    axis1.set_ylabel(\"Hue\")\n",
    "\n",
    "    axis2.imshow(image)\n",
    "\n",
    "    figure.set_size_inches(20, 20)\n",
    "    plt.show()\n",
    "\n",
    "# Note: 0 <= hue <= 180, 0 <= saturation <= 255"
   ]
  },
  {
   "attachments": {},
   "cell_type": "markdown",
   "metadata": {},
   "source": [
    "From the histograms produced by the code above, we can see that the whites are usually at around 50 saturation or less, however the exact distribution seems to vary by image.\n",
    "\n",
    "The yellows are at around a hue of 100. They are difficult to see, but there is a slightly lighter area at that location at around a saturation of 60 - 70. However, the yellow at such low saturation come from the hills, and it isn't apparent what the bright yellow's saturation is.\n",
    "\n",
    "The large patch of datapoints at a hue of 20 and saturation of 90 - 140 come from the sky as no other colour has as much presence in the photos."
   ]
  },
  {
   "attachments": {},
   "cell_type": "markdown",
   "metadata": {},
   "source": [
    "### The Pipeline"
   ]
  },
  {
   "cell_type": "code",
   "execution_count": null,
   "metadata": {
    "collapsed": true
   },
   "outputs": [],
   "source": [
    "def colour_thresholding(img, output=False):\n",
    "    # Thresholds in the order: H, S, V\n",
    "    WHITE_LOW_THRESHOLD = (0, 0, 200) \n",
    "    WHITE_HIGH_THRESHOLD = (180, 40, 255)\n",
    "    YELLOW_LOW_THRESHOLD = (90, 110, 0)\n",
    "    YELLOW_HIGH_THRESHOLD = (110, 180, 255)\n",
    "\n",
    "    white_mask = cv2.inRange(img, WHITE_LOW_THRESHOLD, WHITE_HIGH_THRESHOLD)\n",
    "    yellow_mask = cv2.inRange(img, YELLOW_LOW_THRESHOLD, YELLOW_HIGH_THRESHOLD)\n",
    "\n",
    "    combined_mask = cv2.bitwise_or(white_mask, yellow_mask)\n",
    "    colour_thresholded_image = cv2.bitwise_and(img, img, mask=combined_mask)\n",
    "    if output:\n",
    "        show_image(convert_to_rgb(colour_thresholded_image))\n",
    "    return colour_thresholded_image\n",
    "\n",
    "def image_pipeline(image, output=False):\n",
    "    \"\"\"Yanqi-made image processing pipeline, hope it works :fingers-crossed:\"\"\"\n",
    "    raw_image = image\n",
    "    hsv_image = convert_to_hsv(raw_image)\n",
    "\n",
    "    if output:\n",
    "        show_image(raw_image)\n",
    "        show_image(hsv_image)\n",
    "\n",
    "    # Colour thresholding (yellow and white)\n",
    "    colour_thresholded_image = colour_thresholding(hsv_image, output=output)\n",
    "\n",
    "    # Conversion to greyscale\n",
    "    greyscale_image = grayscale(colour_thresholded_image)\n",
    "    if output:\n",
    "        show_image(greyscale_image, cmap=\"gray\")\n",
    "\n",
    "    # Smoothing\n",
    "    smoothed_image = gaussian_blur(greyscale_image, 5)\n",
    "    if output:\n",
    "        show_image(smoothed_image, cmap=\"gray\")\n",
    "\n",
    "    # Canny edge detection\n",
    "    edge_detect_image = canny(smoothed_image, 100, 100)\n",
    "    if output:\n",
    "        show_image(edge_detect_image, cmap=\"gray\")\n",
    "\n",
    "    # Region of interest filtering\n",
    "    TOP_Y_VALUE = 320\n",
    "    BOTTOM_Y_VALUE = 600\n",
    "    X1 = 50\n",
    "    X2 = 450\n",
    "    X3 = 520\n",
    "    X4 = 1000\n",
    "    vertices = np.array([[X1, BOTTOM_Y_VALUE], [X2, TOP_Y_VALUE], [X3, TOP_Y_VALUE], [X4, BOTTOM_Y_VALUE]])\n",
    "    region_of_interest_masked_image = region_of_interest(edge_detect_image, [vertices])\n",
    "    if output:\n",
    "        show_image(region_of_interest_masked_image, cmap=\"gray\")\n",
    "\n",
    "    # Line segment detection\n",
    "    # According to the docs, rho and theta are the resolution in pixels and radians\n",
    "    line_detected_image, lines = hough_lines(region_of_interest_masked_image, 1, np.pi/180, threshold=8, min_line_len=0, max_line_gap=15)\n",
    "    if output:\n",
    "        show_image(line_detected_image)\n",
    "        show_image(weighted_img(line_detected_image, raw_image))\n",
    "\n",
    "    # Classification into left and right boundaries\n",
    "    middle_x_value = (X4 + X1) / 2\n",
    "    left_points, right_points = group_lines_in_left_right(line_detected_image, lines, middle_x_value)\n",
    "    if output:\n",
    "        for points in [left_points, right_points]:\n",
    "            line_img = np.zeros((line_detected_image.shape[0], line_detected_image.shape[1], 3), dtype=np.uint8)\n",
    "            for index in range(0, len(points) - 1, 2):\n",
    "                point1 = points[index]\n",
    "                point2 = points[index + 1]\n",
    "                cv2.line(line_img, point1, point2, color=[255, 0, 0], thickness=2)\n",
    "            show_image(line_img)\n",
    "\n",
    "    # Line fitting\n",
    "    # Use RANSAC on the left and right line segments for it to plot a contiguous line representing the lane markings\n",
    "    def run_ransac(x, y, x1, x2):\n",
    "        ransac = create_ransac()\n",
    "        ransac.fit(x, y)\n",
    "        return ((int(x1), int(ransac.predict([[x1,],])[0][0])), (int(x2), int(ransac.predict([[x2,],])[0][0])))\n",
    "\n",
    "    # Left\n",
    "    x, y = np.split(left_points, indices_or_sections=2, axis=1)\n",
    "    left_line_point = run_ransac(x, y, X1, X2)\n",
    "\n",
    "    # Right\n",
    "    x, y = np.split(right_points, indices_or_sections=2, axis=1)\n",
    "    right_line_point = run_ransac(x, y, X3, X4)\n",
    "    \n",
    "    line_img = np.zeros((line_detected_image.shape[0], line_detected_image.shape[1], 3), dtype=np.uint8)\n",
    "    for point in [left_line_point, right_line_point]:\n",
    "        cv2.line(line_img, point[0], point[1], color=[255, 255, 255], thickness=5)\n",
    "\n",
    "    # Output the final image where lanes are drawn on the raw image\n",
    "    lanes_img = weighted_img(line_img, raw_image)\n",
    "    if output:\n",
    "        show_image(lanes_img)\n",
    "    return lanes_img\n",
    "\n",
    "\n",
    "# for file in os.listdir(\"test_images/\"):\n",
    "    # final_result_img = image_pipeline(mpimg.imread(f\"test_images/{file}\"))\n",
    "    # show_image(final_result_img)\n",
    "    # mpimg.imsave(f\"test_images/{file}_result\", final_result_img)\n",
    "\n",
    "final_result_img = image_pipeline(mpimg.imread(\"test_images/solidYellowCurve.jpg\"), output=True)\n"
   ]
  },
  {
   "cell_type": "markdown",
   "metadata": {},
   "source": [
    "## Test on Videos\n",
    "\n",
    "You know what's cooler than drawing lanes over images? Drawing lanes over video!\n",
    "\n",
    "We can test our solution on two provided videos:\n",
    "\n",
    "`solidWhiteRight.mp4`\n",
    "\n",
    "`solidYellowLeft.mp4`\n",
    "\n",
    "**Note: if you get an import error when you run the next cell, try changing your kernel (select the Kernel menu above --> Change Kernel). Still have problems? Try relaunching Jupyter Notebook from the terminal prompt. Also, consult the forums for more troubleshooting tips.**\n",
    "\n",
    "**If you get an error that looks like this:**\n",
    "```\n",
    "NeedDownloadError: Need ffmpeg exe. \n",
    "You can download it by calling: \n",
    "imageio.plugins.ffmpeg.download()\n",
    "```\n",
    "**Follow the instructions in the error message and check out [this forum post](https://discussions.udacity.com/t/project-error-of-test-on-videos/274082) for more troubleshooting tips across operating systems.**"
   ]
  },
  {
   "cell_type": "code",
   "execution_count": null,
   "metadata": {
    "collapsed": true
   },
   "outputs": [],
   "source": [
    "# Import everything needed to edit/save/watch video clips\n",
    "from moviepy.editor import VideoFileClip\n",
    "from IPython.display import HTML"
   ]
  },
  {
   "cell_type": "code",
   "execution_count": null,
   "metadata": {
    "collapsed": true
   },
   "outputs": [],
   "source": [
    "def process_image(image):\n",
    "    return image_pipeline(image)"
   ]
  },
  {
   "cell_type": "markdown",
   "metadata": {},
   "source": [
    "Let's try the one with the solid white lane on the right first ..."
   ]
  },
  {
   "cell_type": "code",
   "execution_count": null,
   "metadata": {
    "collapsed": false
   },
   "outputs": [],
   "source": [
    "white_output = 'test_videos_output/solidWhiteRight.mp4'\n",
    "## To speed up the testing process you may want to try your pipeline on a shorter subclip of the video\n",
    "## To do so add .subclip(start_second,end_second) to the end of the line below\n",
    "## Where start_second and end_second are integer values representing the start and end of the subclip\n",
    "## You may also uncomment the following line for a subclip of the first 5 seconds\n",
    "##clip1 = VideoFileClip(\"test_videos/solidWhiteRight.mp4\").subclip(0,5)\n",
    "clip1 = VideoFileClip(\"test_videos/solidWhiteRight.mp4\")\n",
    "white_clip = clip1.fl_image(process_image) #NOTE: this function expects color images!!\n",
    "%time white_clip.write_videofile(white_output, audio=False)"
   ]
  },
  {
   "cell_type": "markdown",
   "metadata": {},
   "source": [
    "Play the video inline, or if you prefer find the video in your filesystem (should be in the same directory) and play it in your video player of choice."
   ]
  },
  {
   "cell_type": "code",
   "execution_count": null,
   "metadata": {
    "collapsed": false
   },
   "outputs": [],
   "source": [
    "HTML(\"\"\"\n",
    "<video width=\"960\" height=\"540\" controls>\n",
    "  <source src=\"{0}\">\n",
    "</video>\n",
    "\"\"\".format(white_output))"
   ]
  },
  {
   "cell_type": "markdown",
   "metadata": {},
   "source": [
    "## Improve the draw_lines() function\n",
    "\n",
    "**At this point, if you were successful with making the pipeline and tuning parameters, you probably have the Hough line segments drawn onto the road, but what about identifying the full extent of the lane and marking it clearly as in the example video (P1_example.mp4)?  Think about defining a line to run the full length of the visible lane based on the line segments you identified with the Hough Transform. As mentioned previously, try to average and/or extrapolate the line segments you've detected to map out the full extent of the lane lines. You can see an example of the result you're going for in the video \"P1_example.mp4\".**\n",
    "\n",
    "**Go back and modify your draw_lines function accordingly and try re-running your pipeline. The new output should draw a single, solid line over the left lane line and a single, solid line over the right lane line. The lines should start from the bottom of the image and extend out to the top of the region of interest.**"
   ]
  },
  {
   "cell_type": "markdown",
   "metadata": {},
   "source": [
    "Now for the one with the solid yellow lane on the left. This one's more tricky!"
   ]
  },
  {
   "cell_type": "code",
   "execution_count": null,
   "metadata": {
    "collapsed": false
   },
   "outputs": [],
   "source": [
    "yellow_output = 'test_videos_output/solidYellowLeft.mp4'\n",
    "## To speed up the testing process you may want to try your pipeline on a shorter subclip of the video\n",
    "## To do so add .subclip(start_second,end_second) to the end of the line below\n",
    "## Where start_second and end_second are integer values representing the start and end of the subclip\n",
    "## You may also uncomment the following line for a subclip of the first 5 seconds\n",
    "##clip2 = VideoFileClip('test_videos/solidYellowLeft.mp4').subclip(0,5)\n",
    "clip2 = VideoFileClip('test_videos/solidYellowLeft.mp4')\n",
    "yellow_clip = clip2.fl_image(process_image)\n",
    "%time yellow_clip.write_videofile(yellow_output, audio=False)"
   ]
  },
  {
   "cell_type": "code",
   "execution_count": null,
   "metadata": {
    "collapsed": false
   },
   "outputs": [],
   "source": [
    "HTML(\"\"\"\n",
    "<video width=\"960\" height=\"540\" controls>\n",
    "  <source src=\"{0}\">\n",
    "</video>\n",
    "\"\"\".format(yellow_output))"
   ]
  },
  {
   "cell_type": "markdown",
   "metadata": {},
   "source": [
    "## Writeup and Submission\n",
    "\n",
    "If you're satisfied with your video outputs, it's time to make the report writeup in a pdf or markdown file. Once you have this Ipython notebook ready along with the writeup, it's time to submit for review! Here is a [link](https://github.com/udacity/CarND-LaneLines-P1/blob/master/writeup_template.md) to the writeup template file.\n"
   ]
  },
  {
   "cell_type": "markdown",
   "metadata": {
    "collapsed": true
   },
   "source": [
    "## Optional Challenge\n",
    "\n",
    "Try your lane finding pipeline on the video below.  Does it still work?  Can you figure out a way to make it more robust?  If you're up for the challenge, modify your pipeline so it works with this video and submit it along with the rest of your project!"
   ]
  },
  {
   "cell_type": "code",
   "execution_count": null,
   "metadata": {
    "collapsed": true
   },
   "outputs": [],
   "source": [
    "challenge_output = 'test_videos_output/challenge.mp4'\n",
    "## To speed up the testing process you may want to try your pipeline on a shorter subclip of the video\n",
    "## To do so add .subclip(start_second,end_second) to the end of the line below\n",
    "## Where start_second and end_second are integer values representing the start and end of the subclip\n",
    "## You may also uncomment the following line for a subclip of the first 5 seconds\n",
    "##clip3 = VideoFileClip('test_videos/challenge.mp4').subclip(0,5)\n",
    "clip3 = VideoFileClip('test_videos/challenge.mp4')\n",
    "challenge_clip = clip3.fl_image(process_image)\n",
    "%time challenge_clip.write_videofile(challenge_output, audio=False)"
   ]
  },
  {
   "cell_type": "code",
   "execution_count": null,
   "metadata": {
    "collapsed": true
   },
   "outputs": [],
   "source": [
    "HTML(\"\"\"\n",
    "<video width=\"960\" height=\"540\" controls>\n",
    "  <source src=\"{0}\">\n",
    "</video>\n",
    "\"\"\".format(challenge_output))"
   ]
  }
 ],
 "metadata": {
  "anaconda-cloud": {},
  "kernelspec": {
   "display_name": "ece495_a1",
   "language": "python",
   "name": "python3"
  },
  "language_info": {
   "codemirror_mode": {
    "name": "ipython",
    "version": 3
   },
   "file_extension": ".py",
   "mimetype": "text/x-python",
   "name": "python",
   "nbconvert_exporter": "python",
   "pygments_lexer": "ipython3",
   "version": "3.10.0"
  },
  "vscode": {
   "interpreter": {
    "hash": "d8fa7fe7173a64db132746501f00baf746f95900d8ef8f98ab4a176681d777e0"
   }
  }
 },
 "nbformat": 4,
 "nbformat_minor": 0
}
